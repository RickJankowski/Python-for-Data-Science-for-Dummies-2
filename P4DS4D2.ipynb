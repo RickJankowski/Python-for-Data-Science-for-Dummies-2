{
 "cells": [
  {
   "cell_type": "markdown",
   "metadata": {
    "colab_type": "text",
    "id": "view-in-github"
   },
   "source": [
    "<a href=\"https://colab.research.google.com/github/lynstanford/Python-for-Data-Science-for-Dummies-2/blob/master/P4DS4D2.ipynb\" target=\"_parent\"><img src=\"https://colab.research.google.com/assets/colab-badge.svg\" alt=\"Open In Colab\"/></a>"
   ]
  },
  {
   "cell_type": "markdown",
   "metadata": {
    "colab_type": "text",
    "id": "vrkCPWl6D3YY"
   },
   "source": [
    "# Learning to Use Python\n",
    "\n",
    "Starting off with a SciKit Learn example. First I need to load data from the files provided by the 'Python for Data Science for Dummies 2nd Edit' book."
   ]
  },
  {
   "cell_type": "code",
   "execution_count": 4,
   "metadata": {
    "colab": {},
    "colab_type": "code",
    "id": "7_b5An0eM6Fl"
   },
   "outputs": [],
   "source": [
    "from sklearn.datasets import load_boston\n",
    "boston = load_boston()\n",
    "X, y = boston.data, boston.target"
   ]
  },
  {
   "cell_type": "markdown",
   "metadata": {
    "colab_type": "text",
    "id": "CQSRzPJgFsj0"
   },
   "source": [
    "Next I need to train the model using a linear regression method."
   ]
  },
  {
   "cell_type": "code",
   "execution_count": 5,
   "metadata": {
    "colab": {
     "base_uri": "https://localhost:8080/",
     "height": 34
    },
    "colab_type": "code",
    "id": "r-akouZvF_We",
    "outputId": "c6926abc-e5e5-46c6-b7ee-11cbd0310246"
   },
   "outputs": [
    {
     "output_type": "execute_result",
     "data": {
      "text/plain": "LinearRegression(copy_X=True, fit_intercept=True, n_jobs=None, normalize=True)"
     },
     "metadata": {},
     "execution_count": 5
    }
   ],
   "source": [
    "from sklearn.linear_model import LinearRegression\n",
    "hypothesis = LinearRegression(normalize=True)\n",
    "hypothesis.fit(X,y)"
   ]
  },
  {
   "cell_type": "code",
   "execution_count": null,
   "metadata": {
    "colab": {
     "base_uri": "https://localhost:8080/",
     "height": 87
    },
    "colab_type": "code",
    "id": "ZWYYjaNLIA5o",
    "outputId": "d4f1ff00-96aa-4e07-9045-4a9115ccc2e9"
   },
   "outputs": [],
   "source": [
    "print(hypothesis.coef_)"
   ]
  },
  {
   "cell_type": "code",
   "execution_count": null,
   "metadata": {
    "colab": {
     "base_uri": "https://localhost:8080/",
     "height": 34
    },
    "colab_type": "code",
    "id": "RGV4dFnHINsd",
    "outputId": "75ad7e2f-99e0-447b-8330-4c7f95a6a5a0"
   },
   "outputs": [],
   "source": [
    "print(hypothesis.normalize)"
   ]
  },
  {
   "cell_type": "code",
   "execution_count": null,
   "metadata": {
    "colab": {
     "base_uri": "https://localhost:8080/",
     "height": 132
    },
    "colab_type": "code",
    "id": "j6Vj2njWItKq",
    "outputId": "db0f8681-213d-4944-c10d-9fc630d62167"
   },
   "outputs": [],
   "source": [
    "print \"Hello There!\""
   ]
  },
  {
   "cell_type": "markdown",
   "metadata": {
    "colab_type": "text",
    "id": "9wR02NSJIx-I"
   },
   "source": [
    "This is because this notebook is a Python 3 file. If it was Python 2 it would execute the print function as is. To correct for this I must add the parentheses this time."
   ]
  },
  {
   "cell_type": "code",
   "execution_count": null,
   "metadata": {
    "colab": {
     "base_uri": "https://localhost:8080/",
     "height": 34
    },
    "colab_type": "code",
    "id": "hcQPFVVaJRH-",
    "outputId": "0376221e-8083-4f72-8538-9a1c32bca7e0"
   },
   "outputs": [],
   "source": [
    "print(\"Hello There! My name is Lyn and I love Python Notebooks.\")"
   ]
  },
  {
   "cell_type": "code",
   "execution_count": null,
   "metadata": {
    "colab": {
     "base_uri": "https://localhost:8080/",
     "height": 34
    },
    "colab_type": "code",
    "id": "spijaol6JsM0",
    "outputId": "b6ca3ac1-d7d9-41d9-8963-44584fd8af97"
   },
   "outputs": [],
   "source": [
    "if 1 < 2:\n",
    "    print(\"1 is less than 2\")"
   ]
  },
  {
   "cell_type": "markdown",
   "metadata": {
    "colab_type": "text",
    "id": "-lvEnpRIK2fE"
   },
   "source": [
    "# Downloading DataSets and Example Code\n",
    "\n",
    "Datasets used in the book"
   ]
  },
  {
   "cell_type": "code",
   "execution_count": null,
   "metadata": {
    "colab": {
     "base_uri": "https://localhost:8080/",
     "height": 34
    },
    "colab_type": "code",
    "id": "q15iQAncLDag",
    "outputId": "85f43a05-ccd6-4c88-970e-44a919d12be8"
   },
   "outputs": [],
   "source": [
    "from sklearn.datasets import load_boston\n",
    "Boston = load_boston()\n",
    "print(boston.data.shape)"
   ]
  },
  {
   "cell_type": "markdown",
   "metadata": {},
   "source": [
    "# To Read From a Text File\n",
    "\n",
    "The data contained within the next file is in text format or a \".txt\" file so it can be read using the Python Pandas module. In order to open the file and read the data in this format I will use the read_table() format. \n",
    "\n",
    "1. First I will need to import the pandas module which is used for dataframes.\n",
    "2. Next I need to initialize a variable with a name like my_color_table.\n",
    "3. Select the pandas I/O API \".io\" and parse the information \".io.parsers\" using the read_table() method for reading text files and entering the name of the source file as \".io.parsers.read_table(\"Colors.txt\").\n",
    "4. Print the output (which in this case will appear in a dataframe because I'm using the pandas library)."
   ]
  },
  {
   "cell_type": "code",
   "execution_count": null,
   "metadata": {},
   "outputs": [],
   "source": [
    "import pandas as pd\n",
    "my_color_table = pd.io.parsers.read_table(\"Colors.txt\")\n",
    "print(my_color_table)"
   ]
  },
  {
   "cell_type": "markdown",
   "metadata": {},
   "source": [
    "# Reading CSV delimited format\n",
    "They are generally formatted in the following way:\n",
    "    A header contains separate fields (columns)\n",
    "    Each field is separated by a comma\n",
    "    Records (rows) are separated by line feeds\n",
    "    Strings are enclosed in double quotes\n",
    "    Integers and real numbers don't use quotes\n",
    "Be careful when parsing the 'age' field in the csv document! If there are no fields occupying the header cells at the top, it will not parse properly and return an error message."
   ]
  },
  {
   "cell_type": "code",
   "execution_count": null,
   "metadata": {},
   "outputs": [],
   "source": [
    "import pandas as pd \n",
    "titanic = pd.io.parsers.read_csv(\"titanic.csv\")\n",
    "X = titanic[['age']]\n",
    "print(X)"
   ]
  },
  {
   "cell_type": "markdown",
   "metadata": {},
   "source": [
    "## Amend the csv data\n",
    "Fixing the csv file to make sure the 'age' field is in the header and that all the header fields occupy the top line in the document:"
   ]
  },
  {
   "cell_type": "code",
   "execution_count": null,
   "metadata": {},
   "outputs": [],
   "source": [
    "import pandas as pd \n",
    "titanic = pd.io.parsers.read_csv(\"titanic.csv\")\n",
    "X = titanic[['age']]\n",
    "print(X)"
   ]
  },
  {
   "cell_type": "code",
   "execution_count": null,
   "metadata": {},
   "outputs": [],
   "source": [
    "import pandas as pd \n",
    "titanic = pd.io.parsers.read_csv(\"titanic.csv\")\n",
    "X = titanic[['age']].values                                     # to represent the data as a list\n",
    "print(X)"
   ]
  },
  {
   "cell_type": "markdown",
   "metadata": {},
   "source": [
    "Using an appropriate excel or csv extension in VS Code will enable you to open files in Preview. For example, two possible extensions to preview excel files (xls, xlsx) would include 'Excel Viewer' or 'Data Preview'. To preview files with a 'csv' extension both the 'Data Preview' and 'SandDance for VSCode' extensions could be used. This would make it easier to decide which data to transform or load into the notebook.\n",
    "\n",
    "When processing excel workbooks, you need to distinguish which worksheet you are using first, if there are multiple worksheets. For example, opening the Values.xls file:"
   ]
  },
  {
   "cell_type": "code",
   "execution_count": null,
   "metadata": {},
   "outputs": [],
   "source": [
    "import pandas as pd \n",
    "xls = pd.ExcelFile(\"Values.xls\")\n",
    "trig_values = xls.parse('Sheet1', index_col=None, na_values=['NA'])\n",
    "print(trig_values)"
   ]
  },
  {
   "cell_type": "markdown",
   "metadata": {},
   "source": [
    "Condensing this file pointer variable to a one line statement"
   ]
  },
  {
   "cell_type": "code",
   "execution_count": null,
   "metadata": {},
   "outputs": [],
   "source": [
    "trig_values = pd.read_excel(\"Values.xls\", 'Sheet1', index_col=None, na_values=['NA'])"
   ]
  },
  {
   "cell_type": "code",
   "execution_count": null,
   "metadata": {},
   "outputs": [],
   "source": []
  }
 ],
 "metadata": {
  "colab": {
   "collapsed_sections": [],
   "include_colab_link": true,
   "name": "P4DS4D2.ipynb",
   "provenance": [],
   "version": "0.3.2"
  },
  "kernelspec": {
   "display_name": "Python 3.7.4 64-bit ('base': conda)",
   "language": "python",
   "name": "python37464bitbaseconda4f632054b04c4033ba3690453bd32f12"
  },
  "language_info": {
   "name": "",
   "version": "3.7.7-final"
  }
 },
 "nbformat": 4,
 "nbformat_minor": 4
}