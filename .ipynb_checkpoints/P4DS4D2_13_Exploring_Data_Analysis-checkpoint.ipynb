{
 "cells": [
  {
   "cell_type": "markdown",
   "metadata": {},
   "source": [
    "# Defining Descriptive Statistics for Numeric Data"
   ]
  },
  {
   "cell_type": "code",
   "execution_count": 1,
   "metadata": {},
   "outputs": [],
   "source": [
    "%matplotlib inline"
   ]
  },
  {
   "cell_type": "code",
   "execution_count": 2,
   "metadata": {},
   "outputs": [],
   "source": [
    "from sklearn.datasets import load_iris\n",
    "iris = load_iris()"
   ]
  },
  {
   "cell_type": "code",
   "execution_count": null,
   "metadata": {},
   "outputs": [],
   "source": [
    "import pandas as pd\n",
    "import numpy as np\n",
    "\n",
    "print('Your pandas version is: %s' % pd.__version__)\n",
    "print('Your NumPy version is %s' % np.__version__)\n",
    "from sklearn.datasets import load_iris\n",
    "iris = load_iris()\n",
    "iris_nparray = iris.data\n",
    "\n",
    "iris_dataframe = pd.DataFrame(iris.data, columns=iris.feature_names)\n",
    "iris_dataframe['group'] = pd.Series([iris.target_names[k] for k in iris.target], dtype=\"category\") "
   ]
  },
  {
   "cell_type": "markdown",
   "metadata": {},
   "source": [
    "## Measuring central tendency"
   ]
  },
  {
   "cell_type": "code",
   "execution_count": null,
   "metadata": {},
   "outputs": [],
   "source": [
    "print(iris_dataframe.mean(numeric_only=True))"
   ]
  },
  {
   "cell_type": "code",
   "execution_count": null,
   "metadata": {},
   "outputs": [],
   "source": [
    "print(iris_dataframe.median(numeric_only=True))"
   ]
  },
  {
   "cell_type": "markdown",
   "metadata": {},
   "source": [
    "## Measuring variance and range"
   ]
  },
  {
   "cell_type": "code",
   "execution_count": null,
   "metadata": {},
   "outputs": [],
   "source": [
    "print(iris_dataframe.std())"
   ]
  },
  {
   "cell_type": "code",
   "execution_count": null,
   "metadata": {},
   "outputs": [],
   "source": [
    "print(iris_dataframe.max(numeric_only=True) \n",
    "      - iris_dataframe.min(numeric_only=True))"
   ]
  },
  {
   "cell_type": "markdown",
   "metadata": {},
   "source": [
    "## Working with percentiles"
   ]
  },
  {
   "cell_type": "code",
   "execution_count": null,
   "metadata": {},
   "outputs": [],
   "source": [
    "print(iris_dataframe.quantile([0,.25,.50,.75,1]))"
   ]
  },
  {
   "cell_type": "markdown",
   "metadata": {},
   "source": [
    "## Defining measures of normality"
   ]
  },
  {
   "cell_type": "code",
   "execution_count": null,
   "metadata": {},
   "outputs": [],
   "source": [
    "from scipy.stats import kurtosis, kurtosistest\n",
    "variable = iris_dataframe['petal length (cm)']\n",
    "k = kurtosis(variable)\n",
    "zscore, pvalue = kurtosistest(variable)\n",
    "print('Kurtosis %0.3f z-score %0.3f p-value %0.3f' \n",
    "      % (k, zscore, pvalue))"
   ]
  },
  {
   "cell_type": "code",
   "execution_count": null,
   "metadata": {},
   "outputs": [],
   "source": [
    "from scipy.stats import skew, skewtest\n",
    "variable = iris_dataframe['petal length (cm)']\n",
    "s = skew(variable)\n",
    "zscore, pvalue = skewtest(variable)\n",
    "print('Skewness %0.3f z-score %0.3f p-value %0.3f' \n",
    "      % (s, zscore, pvalue))"
   ]
  },
  {
   "cell_type": "markdown",
   "metadata": {},
   "source": [
    "# Counting for Categorical Data"
   ]
  },
  {
   "cell_type": "code",
   "execution_count": null,
   "metadata": {},
   "outputs": [],
   "source": [
    "pcts = [0, .25, .5, .75, 1]\n",
    "iris_binned = pd.concat(\n",
    "    [pd.qcut(iris_dataframe.iloc[:,0], pcts, precision=1),\n",
    "     pd.qcut(iris_dataframe.iloc[:,1], pcts, precision=1),\n",
    "     pd.qcut(iris_dataframe.iloc[:,2], pcts, precision=1),\n",
    "     pd.qcut(iris_dataframe.iloc[:,3], pcts, precision=1)],\n",
    "    join='outer', axis = 1)"
   ]
  },
  {
   "cell_type": "markdown",
   "metadata": {},
   "source": [
    "## Understanding frequencies"
   ]
  },
  {
   "cell_type": "code",
   "execution_count": null,
   "metadata": {},
   "outputs": [],
   "source": [
    "print(iris_dataframe['group'].value_counts())"
   ]
  },
  {
   "cell_type": "code",
   "execution_count": null,
   "metadata": {},
   "outputs": [],
   "source": [
    "print(iris_binned['petal length (cm)'].value_counts())"
   ]
  },
  {
   "cell_type": "code",
   "execution_count": null,
   "metadata": {},
   "outputs": [],
   "source": [
    "print(iris_binned.describe())"
   ]
  },
  {
   "cell_type": "markdown",
   "metadata": {},
   "source": [
    "## Creating contingency tables"
   ]
  },
  {
   "cell_type": "code",
   "execution_count": null,
   "metadata": {},
   "outputs": [],
   "source": [
    "print(pd.crosstab(iris_dataframe['group'],\n",
    "                  iris_binned['petal length (cm)']))"
   ]
  },
  {
   "cell_type": "markdown",
   "metadata": {},
   "source": [
    "# Creating Applied Visualization for EDA"
   ]
  },
  {
   "cell_type": "markdown",
   "metadata": {},
   "source": [
    "## Inspecting boxplots"
   ]
  },
  {
   "cell_type": "code",
   "execution_count": null,
   "metadata": {},
   "outputs": [],
   "source": [
    "boxplots = iris_dataframe.boxplot(fontsize=9)"
   ]
  },
  {
   "cell_type": "code",
   "execution_count": null,
   "metadata": {},
   "outputs": [],
   "source": [
    "import matplotlib.pyplot as plt\n",
    "boxplots = iris_dataframe.boxplot(column='petal length (cm)', \n",
    "                                  by='group', fontsize=10)\n",
    "plt.suptitle(\"\")\n",
    "plt.show()"
   ]
  },
  {
   "cell_type": "markdown",
   "metadata": {},
   "source": [
    "## Performing t-tests after boxplots"
   ]
  },
  {
   "cell_type": "code",
   "execution_count": null,
   "metadata": {},
   "outputs": [],
   "source": [
    "from scipy.stats import ttest_ind\n",
    "\n",
    "group0 = iris_dataframe['group'] == 'setosa'\n",
    "group1 = iris_dataframe['group'] == 'versicolor'\n",
    "group2 = iris_dataframe['group'] == 'virginica'\n",
    "variable = iris_dataframe['petal length (cm)']\n",
    "\n",
    "print('var1 %0.3f var2 %03f' % (variable[group1].var(), \n",
    "                                variable[group2].var()))"
   ]
  },
  {
   "cell_type": "code",
   "execution_count": null,
   "metadata": {},
   "outputs": [],
   "source": [
    "variable = iris_dataframe['sepal width (cm)']\n",
    "t, pvalue = ttest_ind(variable[group1], variable[group2],\n",
    "                      axis=0, equal_var=False)\n",
    "print('t statistic %0.3f p-value %0.3f' % (t, pvalue))"
   ]
  },
  {
   "cell_type": "code",
   "execution_count": null,
   "metadata": {},
   "outputs": [],
   "source": [
    "from scipy.stats import f_oneway\n",
    "variable = iris_dataframe['sepal width (cm)']\n",
    "f, pvalue = f_oneway(variable[group0], \n",
    "                     variable[group1], \n",
    "                     variable[group2])\n",
    "print('One-way ANOVA F-value %0.3f p-value %0.3f' \n",
    "      % (f,pvalue))"
   ]
  },
  {
   "cell_type": "markdown",
   "metadata": {},
   "source": [
    "## Observing parallel coordinates"
   ]
  },
  {
   "cell_type": "code",
   "execution_count": null,
   "metadata": {},
   "outputs": [],
   "source": [
    "from pandas.plotting import parallel_coordinates\n",
    "iris_dataframe['group'] = iris.target\n",
    "iris_dataframe['labels'] = [iris.target_names[k] \n",
    "                    for k in iris_dataframe['group']]\n",
    "pll = parallel_coordinates(iris_dataframe, 'labels')"
   ]
  },
  {
   "cell_type": "markdown",
   "metadata": {},
   "source": [
    "## Graphing distributions"
   ]
  },
  {
   "cell_type": "code",
   "execution_count": null,
   "metadata": {},
   "outputs": [],
   "source": [
    "cols = iris_dataframe.columns[:4]\n",
    "densityplot = iris_dataframe[cols].plot(kind='density')"
   ]
  },
  {
   "cell_type": "code",
   "execution_count": null,
   "metadata": {},
   "outputs": [],
   "source": [
    "variable = iris_dataframe['petal length (cm)']\n",
    "single_distribution = variable.plot(kind='hist')"
   ]
  },
  {
   "cell_type": "markdown",
   "metadata": {},
   "source": [
    "## Plotting scatterplots"
   ]
  },
  {
   "cell_type": "code",
   "execution_count": null,
   "metadata": {},
   "outputs": [],
   "source": [
    "palette = {0: 'red', 1: 'yellow', 2:'blue'}\n",
    "colors = [palette[c] for c in iris_dataframe['group']]\n",
    "simple_scatterplot = iris_dataframe.plot(\n",
    "                kind='scatter', x='petal length (cm)', \n",
    "                y='petal width (cm)', c=colors)"
   ]
  },
  {
   "cell_type": "code",
   "execution_count": null,
   "metadata": {},
   "outputs": [],
   "source": [
    "from pandas.plotting import scatter_matrix\n",
    "palette = {0: \"red\", 1: \"yellow\", 2: \"blue\"}\n",
    "colors = [palette[c] for c in iris_dataframe['group']]\n",
    "matrix_of_scatterplots = scatter_matrix(\n",
    "    iris_dataframe, figsize=(6, 6), \n",
    "    color=colors, diagonal='kde')"
   ]
  },
  {
   "cell_type": "markdown",
   "metadata": {},
   "source": [
    "# Understanding Correlation"
   ]
  },
  {
   "cell_type": "markdown",
   "metadata": {},
   "source": [
    "## Using covariance and correlation"
   ]
  },
  {
   "cell_type": "code",
   "execution_count": null,
   "metadata": {},
   "outputs": [],
   "source": [
    "iris_dataframe.cov()"
   ]
  },
  {
   "cell_type": "code",
   "execution_count": null,
   "metadata": {},
   "outputs": [],
   "source": [
    "iris_dataframe.corr()"
   ]
  },
  {
   "cell_type": "code",
   "execution_count": null,
   "metadata": {},
   "outputs": [],
   "source": [
    "covariance_matrix = np.cov(iris_nparray, rowvar=0)\n",
    "correlation_matrix = np.corrcoef(iris_nparray, rowvar=0)"
   ]
  },
  {
   "cell_type": "markdown",
   "metadata": {},
   "source": [
    "## Using nonparametric correlation"
   ]
  },
  {
   "cell_type": "code",
   "execution_count": null,
   "metadata": {},
   "outputs": [],
   "source": [
    "from scipy.stats import spearmanr\n",
    "from scipy.stats.stats import pearsonr\n",
    "a = iris_dataframe['sepal length (cm)']\n",
    "b = iris_dataframe['sepal width (cm)']\n",
    "rho_coef, rho_p = spearmanr(a, b)\n",
    "r_coef, r_p = pearsonr(a, b)\n",
    "print('Pearson r %0.3f | Spearman rho %0.3f' \n",
    "      % (r_coef, rho_coef))"
   ]
  },
  {
   "cell_type": "markdown",
   "metadata": {},
   "source": [
    "## Considering chi-square for tables"
   ]
  },
  {
   "cell_type": "code",
   "execution_count": null,
   "metadata": {},
   "outputs": [],
   "source": [
    "from scipy.stats import chi2_contingency\n",
    "table = pd.crosstab(iris_dataframe['group'], \n",
    "                    iris_binned['petal length (cm)'])\n",
    "chi2, p, dof, expected = chi2_contingency(table.values)\n",
    "print('Chi-square %0.2f p-value %0.3f' % (chi2, p))"
   ]
  },
  {
   "cell_type": "markdown",
   "metadata": {},
   "source": [
    "# Modifying Data Distribution"
   ]
  },
  {
   "cell_type": "markdown",
   "metadata": {},
   "source": [
    "## Creating a Z-score standardization"
   ]
  },
  {
   "cell_type": "code",
   "execution_count": null,
   "metadata": {},
   "outputs": [],
   "source": [
    "from sklearn.preprocessing import scale\n",
    "variable = iris_dataframe['sepal width (cm)']\n",
    "stand_sepal_width = scale(variable)"
   ]
  },
  {
   "cell_type": "markdown",
   "metadata": {},
   "source": [
    "## Transforming other notable distributions"
   ]
  },
  {
   "cell_type": "code",
   "execution_count": null,
   "metadata": {},
   "outputs": [],
   "source": [
    "from scipy.stats.stats import pearsonr\n",
    "tranformations = {'x': lambda x: x, \n",
    "                  '1/x': lambda x: 1/x, \n",
    "                  'x**2': lambda x: x**2, \n",
    "                  'x**3': lambda x: x**3, \n",
    "                  'log(x)': lambda x: np.log(x)}\n",
    "a = iris_dataframe['sepal length (cm)']\n",
    "b = iris_dataframe['sepal width (cm)']\n",
    "for transformation in tranformations:\n",
    "    b_transformed =  tranformations[transformation](b)\n",
    "    pearsonr_coef, pearsonr_p = pearsonr(a, b_transformed)\n",
    "    print('Transformation: %s \\t Pearson\\'s r: %0.3f' \n",
    "          % (transformation, pearsonr_coef))"
   ]
  }
 ],
 "metadata": {
  "kernelspec": {
   "display_name": "Python 3",
   "language": "python",
   "name": "python3"
  },
  "language_info": {
   "codemirror_mode": {
    "name": "ipython",
    "version": 3
   },
   "file_extension": ".py",
   "mimetype": "text/x-python",
   "name": "python",
   "nbconvert_exporter": "python",
   "pygments_lexer": "ipython3",
   "version": "3.7.7"
  }
 },
 "nbformat": 4,
 "nbformat_minor": 1
}
